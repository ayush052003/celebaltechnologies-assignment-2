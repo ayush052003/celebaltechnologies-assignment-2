{
 "cells": [
  {
   "cell_type": "markdown",
   "id": "efcbd24a-444e-48de-bf65-dd5d2db5bf8f",
   "metadata": {},
   "source": [
    "Calculator Program with Python"
   ]
  },
  {
   "cell_type": "code",
   "execution_count": null,
   "id": "8e3a3dfa-6bea-432d-8437-a84ed136fb79",
   "metadata": {},
   "outputs": [],
   "source": [
    "def calculator():\n",
    "    while True:\n",
    "    \n",
    "        print(\"Enter '+' to add two numbers\")\n",
    "        print(\"Enter '-' to subtract two numbers\")\n",
    "        print(\"Enter '*' to multiply two numbers\")\n",
    "        print(\"Enter '/' to divide two numbers\")\n",
    "        print(\"Enter 'quit' to end the program\")\n",
    "        \n",
    "        \n",
    "        user_input = input(\": \")\n",
    "\n",
    "    \n",
    "        if user_input == \"quit\":\n",
    "            break\n",
    "        \n",
    "        elif user_input in [\"+\", \"-\", \"*\", \"/\"]:\n",
    "            \n",
    "            num1 = float(input(\"Enter a number: \"))\n",
    "            \n",
    "            num2 = float(input(\"Enter another number: \"))\n",
    "\n",
    "            \n",
    "            if user_input == \"+\":\n",
    "                result = num1 + num2\n",
    "                print(num1, \"+\", num2, \"=\", result)\n",
    "\n",
    "            elif user_input == \"-\":\n",
    "                result = num1 - num2\n",
    "                print(num1, \"-\", num2, \"=\", result)\n",
    "\n",
    "            elif user_input == \"*\":\n",
    "                result = num1 * num2\n",
    "                print(num1, \"*\", num2, \"=\", result)\n",
    "\n",
    "            elif user_input == \"/\":\n",
    "                result = num1 / num2\n",
    "                print(num1, \"/\", num2, \"=\", result)\n",
    "        else:\n",
    "            \n",
    "            print(\"Invalid Input\")\n",
    "\n",
    "calculator()"
   ]
  }
 ],
 "metadata": {
  "kernelspec": {
   "display_name": "Python 3 (ipykernel)",
   "language": "python",
   "name": "python3"
  },
  "language_info": {
   "codemirror_mode": {
    "name": "ipython",
    "version": 3
   },
   "file_extension": ".py",
   "mimetype": "text/x-python",
   "name": "python",
   "nbconvert_exporter": "python",
   "pygments_lexer": "ipython3",
   "version": "3.10.8"
  }
 },
 "nbformat": 4,
 "nbformat_minor": 5
}
